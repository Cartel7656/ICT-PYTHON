{
  "nbformat": 4,
  "nbformat_minor": 0,
  "metadata": {
    "colab": {
      "provenance": []
    },
    "kernelspec": {
      "name": "python3",
      "display_name": "Python 3"
    },
    "language_info": {
      "name": "python"
    }
  },
  "cells": [
    {
      "cell_type": "markdown",
      "source": [
        "## Use Heart Disease [Dataset](https://github.com/cksajil/DSAIRP25/blob/main/datasets/heart_disease.csv) and answer the following questions"
      ],
      "metadata": {
        "id": "97V1aD4PHw_5"
      }
    },
    {
      "cell_type": "markdown",
      "source": [
        "## 1. Find the top 5 important features to the target column"
      ],
      "metadata": {
        "id": "dSQarmgHH93D"
      }
    },
    {
      "cell_type": "code",
      "execution_count": 15,
      "metadata": {
        "id": "RMWtFKt6HpQR",
        "colab": {
          "base_uri": "https://localhost:8080/",
          "height": 258
        },
        "outputId": "8873abed-51f3-496e-a03a-ea1daa4166f4"
      },
      "outputs": [
        {
          "output_type": "stream",
          "name": "stdout",
          "text": [
            "Top 5 important features to the target column:\n"
          ]
        },
        {
          "output_type": "execute_result",
          "data": {
            "text/plain": [
              "cp         0.134201\n",
              "thalach    0.120473\n",
              "ca         0.116755\n",
              "oldpeak    0.116151\n",
              "thal       0.097043\n",
              "dtype: float64"
            ],
            "text/html": [
              "<div>\n",
              "<style scoped>\n",
              "    .dataframe tbody tr th:only-of-type {\n",
              "        vertical-align: middle;\n",
              "    }\n",
              "\n",
              "    .dataframe tbody tr th {\n",
              "        vertical-align: top;\n",
              "    }\n",
              "\n",
              "    .dataframe thead th {\n",
              "        text-align: right;\n",
              "    }\n",
              "</style>\n",
              "<table border=\"1\" class=\"dataframe\">\n",
              "  <thead>\n",
              "    <tr style=\"text-align: right;\">\n",
              "      <th></th>\n",
              "      <th>0</th>\n",
              "    </tr>\n",
              "  </thead>\n",
              "  <tbody>\n",
              "    <tr>\n",
              "      <th>cp</th>\n",
              "      <td>0.134201</td>\n",
              "    </tr>\n",
              "    <tr>\n",
              "      <th>thalach</th>\n",
              "      <td>0.120473</td>\n",
              "    </tr>\n",
              "    <tr>\n",
              "      <th>ca</th>\n",
              "      <td>0.116755</td>\n",
              "    </tr>\n",
              "    <tr>\n",
              "      <th>oldpeak</th>\n",
              "      <td>0.116151</td>\n",
              "    </tr>\n",
              "    <tr>\n",
              "      <th>thal</th>\n",
              "      <td>0.097043</td>\n",
              "    </tr>\n",
              "  </tbody>\n",
              "</table>\n",
              "</div><br><label><b>dtype:</b> float64</label>"
            ]
          },
          "metadata": {},
          "execution_count": 15
        }
      ],
      "source": [
        "\n",
        "import pandas as pd\n",
        "import numpy as np\n",
        "import matplotlib.pyplot as plt\n",
        "import seaborn as sns\n",
        "from sklearn.ensemble import RandomForestClassifier\n",
        "df = pd.read_csv('heart_disease.csv')\n",
        "X = df.drop('target', axis=1)\n",
        "y = df['target']\n",
        "model = RandomForestClassifier(random_state=42)\n",
        "model.fit(X, y)\n",
        "feature_importances = pd.Series(model.feature_importances_, index=X.columns)\n",
        "top_5_features = feature_importances.sort_values(ascending=False).head(5)\n",
        "print(\"Top 5 important features to the target column:\")\n",
        "top_5_features\n",
        ""
      ]
    },
    {
      "cell_type": "markdown",
      "source": [
        "## 2. Perform Box-Cox Transformations to relevant features"
      ],
      "metadata": {
        "id": "imoVr9ncIJON"
      }
    },
    {
      "cell_type": "code",
      "source": [
        "from scipy import stats\n",
        "numerical_features = df.select_dtypes(include=np.number).columns.tolist()\n",
        "features_to_transform = [f for f in numerical_features if f not in ['target', 'sex', 'fbs', 'exang', 'restecg', 'ca', 'thal']]\n",
        "for feature in features_to_transform:\n",
        "    if (df[feature] > 0).all():\n",
        "      df[feature], _ = stats.boxcox(df[feature])\n",
        "    else:\n",
        "        print(f\"Skipping Box-Cox transformation for '{feature}' as it contains non-positive values.\")\n",
        "print(\"\\nDataFrame after applying Box-Cox transformations:\")\n",
        "print(df.head())"
      ],
      "metadata": {
        "colab": {
          "base_uri": "https://localhost:8080/"
        },
        "id": "_vXuDXw3RNe4",
        "outputId": "f5acfc76-8a09-4c7b-b602-84f375d4db94"
      },
      "execution_count": 23,
      "outputs": [
        {
          "output_type": "stream",
          "name": "stdout",
          "text": [
            "Skipping Box-Cox transformation for 'cp' as it contains non-positive values.\n",
            "Skipping Box-Cox transformation for 'oldpeak' as it contains non-positive values.\n",
            "Skipping Box-Cox transformation for 'slope' as it contains non-positive values.\n",
            "Skipping Box-Cox transformation for 'age_binned' as it contains non-positive values.\n",
            "\n",
            "DataFrame after applying Box-Cox transformations:\n",
            "          age  sex  cp  trestbps      chol  fbs  restecg       thalach  exang  \\\n",
            "0  271.022426    1   0  0.326596  3.437567    0        1  31302.761017      0   \n",
            "1  279.066773    1   0  0.329893  3.408243    1        0  26279.867742      1   \n",
            "2  427.580007    1   0  0.330859  3.303150    0        1  16471.717088      1   \n",
            "3  346.254970    1   0  0.331412  3.408243    0        1  28539.281170      0   \n",
            "4  354.997982    0   0  0.329489  3.655097    1        1  11514.106856      0   \n",
            "\n",
            "   oldpeak  slope  ca  thal  target  age_binned  age_boxcox  trestbps_boxcox  \\\n",
            "0      1.0      2   2     3       0           2  269.488280        -0.671781   \n",
            "1      3.1      0   0     3       0           2  277.513295        -0.668503   \n",
            "2      2.6      0   0     3       0           4  425.654223        -0.667542   \n",
            "3      0.0      2   1     3       0           3  344.536410        -0.666993   \n",
            "4      1.9      1   3     2       0           3  353.257506        -0.668905   \n",
            "\n",
            "   chol_boxcox  thalach_boxcox  \n",
            "0     2.458847    31300.059210  \n",
            "1     2.429097    26277.465731  \n",
            "2     2.322503    16469.883066  \n",
            "3     2.429097    28536.744937  \n",
            "4     2.679626    11512.547822  \n"
          ]
        }
      ]
    },
    {
      "cell_type": "markdown",
      "source": [
        "## 3. Perform Feature Binning to Age Column and add it as a new column to the dataset"
      ],
      "metadata": {
        "id": "RWyCYg3OIcX7"
      }
    },
    {
      "cell_type": "code",
      "source": [
        "df['age_binned'] = pd.cut(df['age'], bins=5, labels=False)\n",
        "print(\"\\nDataFrame with Age Binning column:\")\n",
        "print(df[['age', 'age_binned']].head())"
      ],
      "metadata": {
        "id": "ViH14BpZIjdz",
        "colab": {
          "base_uri": "https://localhost:8080/"
        },
        "outputId": "fd12ef9f-b5e5-4df4-b973-3360cb3470ea"
      },
      "execution_count": 17,
      "outputs": [
        {
          "output_type": "stream",
          "name": "stdout",
          "text": [
            "\n",
            "DataFrame with Age Binning column:\n",
            "          age  age_binned\n",
            "0  272.372422           2\n",
            "1  280.429390           2\n",
            "2  429.185698           4\n",
            "3  347.725370           3\n",
            "4  356.482692           3\n"
          ]
        }
      ]
    },
    {
      "cell_type": "markdown",
      "source": [
        "## 4. Find the most orthogonal feature to the 'chol' feature"
      ],
      "metadata": {
        "id": "BkXOa5r2IkAh"
      }
    },
    {
      "cell_type": "code",
      "source": [
        "correlation_matrix = df.corr()\n",
        "chol_correlations = correlation_matrix['chol'].drop('chol')\n",
        "most_orthogonal_feature = chol_correlations.abs().idxmin()\n",
        "print(f\"\\nThe most orthogonal feature to 'chol' is: {most_orthogonal_feature}\")"
      ],
      "metadata": {
        "id": "TGjUk6IwI1Ea",
        "colab": {
          "base_uri": "https://localhost:8080/"
        },
        "outputId": "69e53c7e-affe-4f34-afe2-8a62908e07a4"
      },
      "execution_count": 18,
      "outputs": [
        {
          "output_type": "stream",
          "name": "stdout",
          "text": [
            "\n",
            "The most orthogonal feature to 'chol' is: slope\n"
          ]
        }
      ]
    }
  ]
}